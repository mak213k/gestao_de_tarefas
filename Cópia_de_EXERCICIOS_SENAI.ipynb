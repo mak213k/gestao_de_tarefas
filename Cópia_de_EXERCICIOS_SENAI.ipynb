tarefas = []
def mostrar_menu():
    print("\n=== Gestão de Tarefas ===")
    print("1. Adicionar tarefa")
    print("2. Listar tarefas")
    print("3. Remover tarefa")
    print("4. Sair")
    escolha = input("Escolha uma opção: ")
    return escolha
def adicionar_tarefa():
    tarefa = input("Digite a tarefa: ")
    tarefas.append(tarefa)
    print("Tarefa adicionada!")
def listar_tarefas():
    if len(tarefas) == 0:
        print("Não há tarefas na lista.")
    else:
        print("Tarefas:")
        for i in range(len(tarefas)):
            print(f"{i+1}. {tarefas[i]}")
def remover_tarefa():
    listar_tarefas()
    if len(tarefas) > 0:
        num = input("Digite o número da tarefa que quer remover: ")
        if num.isdigit():
            num = int(num)
            if 1 <= num <= len(tarefas):
                removida = tarefas.pop(num - 1)
                print(f"Tarefa '{removida}' removida!")
            else:
                print("Número inválido.")
        else:
            print("Por favor, digite um número válido.")
while True:
    opcao = mostrar_menu()
    if opcao == '1':
        adicionar_tarefa()
    elif opcao == '2':
        listar_tarefas()
    elif opcao == '3':
        remover_tarefa()
    elif opcao == '4':
        print("Até mais!")
        break
    else:
        print("Opção inválida, tente novamente.")

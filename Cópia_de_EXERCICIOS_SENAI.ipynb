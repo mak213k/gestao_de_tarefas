{
  "cells": [
    {
      "cell_type": "markdown",
      "metadata": {
        "id": "view-in-github",
        "colab_type": "text"
      },
      "source": [
        "<a href=\"https://colab.research.google.com/github/mak213k/gestao_de_tarefas/blob/main/C%C3%B3pia_de_EXERCICIOS_SENAI.ipynb\" target=\"_parent\"><img src=\"https://colab.research.google.com/assets/colab-badge.svg\" alt=\"Open In Colab\"/></a>"
      ]
    },
    {
      "cell_type": "code",
      "execution_count": null,
      "metadata": {
        "colab": {
          "background_save": true,
          "base_uri": "https://localhost:8080/"
        },
        "id": "vJf-2OtGemH_",
        "outputId": "ac09f763-8330-400f-d953-0d89af4bde9a"
      },
      "outputs": [
        {
          "output_type": "stream",
          "name": "stdout",
          "text": [
            "\n",
            "=== Gestão de Tarefas ===\n",
            "1. Adicionar tarefa\n",
            "2. Listar tarefas\n",
            "3. Remover tarefa\n",
            "4. Sair\n",
            "Escolha uma opção: 5\n",
            "Opção inválida, tente novamente.\n",
            "\n",
            "=== Gestão de Tarefas ===\n",
            "1. Adicionar tarefa\n",
            "2. Listar tarefas\n",
            "3. Remover tarefa\n",
            "4. Sair\n",
            "Escolha uma opção: 5\n",
            "Opção inválida, tente novamente.\n",
            "\n",
            "=== Gestão de Tarefas ===\n",
            "1. Adicionar tarefa\n",
            "2. Listar tarefas\n",
            "3. Remover tarefa\n",
            "4. Sair\n"
          ]
        }
      ],
      "source": [
        "tarefas = []\n",
        "def mostrar_menu():\n",
        "    print(\"\\n=== Gestão de Tarefas ===\")\n",
        "    print(\"1. Adicionar tarefa\")\n",
        "    print(\"2. Listar tarefas\")\n",
        "    print(\"3. Remover tarefa\")\n",
        "    print(\"4. Sair\")\n",
        "    escolha = input(\"Escolha uma opção: \")\n",
        "    return escolha\n",
        "def adicionar_tarefa():\n",
        "    tarefa = input(\"Digite a tarefa: \")\n",
        "    tarefas.append(tarefa)\n",
        "    print(\"Tarefa adicionada!\")\n",
        "def listar_tarefas():\n",
        "    if len(tarefas) == 0:\n",
        "        print(\"Não há tarefas na lista.\")\n",
        "    else:\n",
        "        print(\"Tarefas:\")\n",
        "        for i in range(len(tarefas)):\n",
        "            print(f\"{i+1}. {tarefas[i]}\")\n",
        "def remover_tarefa():\n",
        "    listar_tarefas()\n",
        "    if len(tarefas) > 0:\n",
        "        num = input(\"Digite o número da tarefa que quer remover: \")\n",
        "        if num.isdigit():\n",
        "            num = int(num)\n",
        "            if 1 <= num <= len(tarefas):\n",
        "                removida = tarefas.pop(num - 1)\n",
        "                print(f\"Tarefa '{removida}' removida!\")\n",
        "            else:\n",
        "                print(\"Número inválido.\")\n",
        "        else:\n",
        "            print(\"Por favor, digite um número válido.\")\n",
        "while True:\n",
        "    opcao = mostrar_menu()\n",
        "    if opcao == '1':\n",
        "        adicionar_tarefa()\n",
        "    elif opcao == '2':\n",
        "        listar_tarefas()\n",
        "    elif opcao == '3':\n",
        "        remover_tarefa()\n",
        "    elif opcao == '4':\n",
        "        print(\"Até mais!\")\n",
        "        break\n",
        "    else:\n",
        "        print(\"Opção inválida, tente novamente.\")"
      ]
    },
    {
      "cell_type": "code",
      "execution_count": null,
      "metadata": {
        "id": "Mcd0h1HGe9cJ"
      },
      "outputs": [],
      "source": [
        "emai=input(digite um email)\n",
        "if (@) in end"
      ]
    },
    {
      "cell_type": "code",
      "execution_count": null,
      "metadata": {
        "colab": {
          "base_uri": "https://localhost:8080/"
        },
        "id": "TLjy5OvcW7Wo",
        "outputId": "10345450-5d8a-454a-c518-26fca9d8ae1b"
      },
      "outputs": [
        {
          "name": "stdout",
          "output_type": "stream",
          "text": [
            "-1\n",
            "-1\n"
          ]
        }
      ],
      "source": [
        "a=4\n",
        "b=3\n",
        "def subtrair (c,d):\n",
        "  print (d-c)\n",
        "subtrair (c=a,d=b)\n",
        "subtrair(d=b,c=a)"
      ]
    },
    {
      "cell_type": "code",
      "execution_count": null,
      "metadata": {
        "colab": {
          "base_uri": "https://localhost:8080/"
        },
        "id": "PgEy6NvGRYdg",
        "outputId": "87859dff-e9f7-4d7a-ceef-40fe03ce01d0"
      },
      "outputs": [
        {
          "name": "stdout",
          "output_type": "stream",
          "text": [
            "7\n"
          ]
        }
      ],
      "source": [
        "a=3\n",
        "b=4\n",
        "def somar (c=3,d=4):\n",
        "  print(c+d)\n",
        "somar(c=a,d=b)"
      ]
    },
    {
      "cell_type": "code",
      "execution_count": null,
      "metadata": {
        "colab": {
          "base_uri": "https://localhost:8080/"
        },
        "id": "m0H2qJk6LX0v",
        "outputId": "0d412c10-924e-4056-8aa3-15e23118dbd4"
      },
      "outputs": [
        {
          "name": "stdout",
          "output_type": "stream",
          "text": [
            "15\n",
            "15\n",
            "<function somar at 0x78a208312660>\n"
          ]
        }
      ],
      "source": [
        "a=5\n",
        "b=3\n",
        "def somar (a,b):\n",
        "  c=7\n",
        "  print (a+b+c)\n",
        "somar(a,b)\n",
        "somar(a,b)\n",
        "print(c)"
      ]
    },
    {
      "cell_type": "code",
      "execution_count": null,
      "metadata": {
        "colab": {
          "base_uri": "https://localhost:8080/"
        },
        "id": "wwDyAmi8LJhQ",
        "outputId": "dd656e4b-5576-4793-c6ee-e01ffadd2aea"
      },
      "outputs": [
        {
          "name": "stdout",
          "output_type": "stream",
          "text": [
            "8\n"
          ]
        }
      ],
      "source": [
        "def somar (a=3,b=2):\n",
        "  print(a+b)\n",
        "somar(a,b)"
      ]
    },
    {
      "cell_type": "code",
      "execution_count": null,
      "metadata": {
        "id": "fEl1_zqtJYpv"
      },
      "outputs": [],
      "source": [
        "a=3\n",
        "b=2\n",
        "def somar(a,b):\n",
        "  return (a+b)\n",
        "  c=somar\n",
        "  print (c)"
      ]
    },
    {
      "cell_type": "code",
      "execution_count": null,
      "metadata": {
        "colab": {
          "base_uri": "https://localhost:8080/"
        },
        "id": "fQkkdO_RIzVQ",
        "outputId": "6f0fb3b4-b78e-4cef-8955-2a94a93fe05d"
      },
      "outputs": [
        {
          "name": "stdout",
          "output_type": "stream",
          "text": [
            "digite um numer5\n",
            "digite um numero5\n",
            "10\n"
          ]
        }
      ],
      "source": [
        "a=int(input('digite um numer'))\n",
        "b=int(input('digite um numero'))\n",
        "print(a+b)3"
      ]
    },
    {
      "cell_type": "code",
      "execution_count": null,
      "metadata": {
        "id": "zcI68NrTICHf"
      },
      "outputs": [],
      "source": [
        "a=3\n",
        "b=2\n",
        "def somar(a,b):\n",
        "  print(a+b)"
      ]
    },
    {
      "cell_type": "code",
      "execution_count": null,
      "metadata": {
        "id": "OojCVy8lx_Zh"
      },
      "outputs": [],
      "source": [
        "# a=[elemento for elemento in [1,2,3,4]]\n",
        "# print (a)\n",
        "\n",
        "# b=[elemento*2 for elemento in [1,2,3,4] if elemento %2==0]\n",
        "# print(b)\n",
        "# print(os.listdir())\n",
        "# with open(\"arquivo.txt\") as t:\n",
        "#     for linho in t:\n",
        "#         print(linho)\n",
        "# a=[[1,2,3,4],[5,6,7,8]]\n",
        "# for lista_interna in a:\n",
        "#     for elemento in lista_interna: #[1,2,3,4] 2[5,6,7,8]\n",
        "        # print(elemento) #1,2,3,4,5,6,7,8\n",
        "k= int(input('numero'))                      #etrada\n",
        "j=0\n",
        "i=0\n",
        "word_initial=input(\"texto\")\n",
        "word_final=word_initial\n",
        "\n",
        "word_temp=''\n",
        "word_initial_count= len(word_initial)\n",
        "alphabet=['a','b','c','d','e','f','g','h','i','j','k','l','m','n','o','p','q','r','s','t','u','v','w','z','y','z']                              #entrada\n",
        "while(i<k): #controla as repetições\n",
        "    if i>0:\n",
        "        word_initial=word_temp\n",
        "        word_temp =\"\" #controla as repetições\n",
        "    j=0\n",
        "    while(j<word_initial_count): #percorrer 12 palavra\n",
        "        if word_initial[j] == 'z':\n",
        "            word_temp += 'a'\n",
        "        else:                    # percorrer 12 palavra\n",
        "            word_temp += alphabet[alphabet.index(word_initial[j])+1]\n",
        "        j+=1\n",
        "    word_final += word_temp\n",
        "    i+=1\n",
        "print(word_final)"
      ]
    },
    {
      "cell_type": "code",
      "execution_count": null,
      "metadata": {
        "colab": {
          "base_uri": "https://localhost:8080/",
          "height": 193
        },
        "id": "RlPYgphmwRCB",
        "outputId": "23c1f205-bd99-4c1e-8c02-2507b95422e2"
      },
      "outputs": [
        {
          "ename": "NameError",
          "evalue": "name 'lista_interna' is not defined",
          "output_type": "error",
          "traceback": [
            "\u001b[0;31m---------------------------------------------------------------------------\u001b[0m",
            "\u001b[0;31mNameError\u001b[0m                                 Traceback (most recent call last)",
            "\u001b[0;32m/tmp/ipython-input-48-625033290.py\u001b[0m in \u001b[0;36m<cell line: 0>\u001b[0;34m()\u001b[0m\n\u001b[1;32m      1\u001b[0m \u001b[0ma\u001b[0m\u001b[0;34m=\u001b[0m\u001b[0;34m[\u001b[0m\u001b[0;34m[\u001b[0m\u001b[0;36m1\u001b[0m\u001b[0;34m,\u001b[0m\u001b[0;36m2\u001b[0m\u001b[0;34m,\u001b[0m\u001b[0;36m3\u001b[0m\u001b[0;34m,\u001b[0m\u001b[0;36m4\u001b[0m\u001b[0;34m]\u001b[0m\u001b[0;34m,\u001b[0m\u001b[0;34m[\u001b[0m\u001b[0;36m5\u001b[0m\u001b[0;34m,\u001b[0m\u001b[0;36m6\u001b[0m\u001b[0;34m,\u001b[0m\u001b[0;36m7\u001b[0m\u001b[0;34m,\u001b[0m\u001b[0;36m8\u001b[0m\u001b[0;34m]\u001b[0m\u001b[0;34m]\u001b[0m\u001b[0;34m\u001b[0m\u001b[0;34m\u001b[0m\u001b[0m\n\u001b[1;32m      2\u001b[0m \u001b[0;32mfor\u001b[0m \u001b[0melemento\u001b[0m \u001b[0;32min\u001b[0m \u001b[0ma\u001b[0m\u001b[0;34m:\u001b[0m\u001b[0;34m\u001b[0m\u001b[0;34m\u001b[0m\u001b[0m\n\u001b[0;32m----> 3\u001b[0;31m     \u001b[0;32mfor\u001b[0m \u001b[0melemento\u001b[0m \u001b[0;32min\u001b[0m \u001b[0mlista_interna\u001b[0m\u001b[0;34m:\u001b[0m \u001b[0;31m#[1,2,3,4] 2[5,6,7,8]\u001b[0m\u001b[0;34m\u001b[0m\u001b[0;34m\u001b[0m\u001b[0m\n\u001b[0m\u001b[1;32m      4\u001b[0m         \u001b[0mprint\u001b[0m\u001b[0;34m(\u001b[0m\u001b[0melemento\u001b[0m\u001b[0;34m)\u001b[0m \u001b[0;31m#1,2,3,4,5,6,7,8\u001b[0m\u001b[0;34m\u001b[0m\u001b[0;34m\u001b[0m\u001b[0m\n",
            "\u001b[0;31mNameError\u001b[0m: name 'lista_interna' is not defined"
          ]
        }
      ],
      "source": [
        "a=[[1,2,3,4],[5,6,7,8]]\n",
        "for elemento in a:\n",
        "    for elemento in lista_interna: #[1,2,3,4] 2[5,6,7,8]\n",
        "        print(elemento) #1,2,3,4,5,6,7,8"
      ]
    },
    {
      "cell_type": "code",
      "execution_count": null,
      "metadata": {
        "colab": {
          "base_uri": "https://localhost:8080/",
          "height": 106
        },
        "id": "uBPb4ghrnu5J",
        "outputId": "368385b3-9b55-48a5-e2a8-9c705f975bc4"
      },
      "outputs": [
        {
          "ename": "SyntaxError",
          "evalue": "invalid syntax (ipython-input-41-2976968703.py, line 1)",
          "output_type": "error",
          "traceback": [
            "\u001b[0;36m  File \u001b[0;32m\"/tmp/ipython-input-41-2976968703.py\"\u001b[0;36m, line \u001b[0;32m1\u001b[0m\n\u001b[0;31m    with open(\"arquivo.txt\")ast:\u001b[0m\n\u001b[0m                            ^\u001b[0m\n\u001b[0;31mSyntaxError\u001b[0m\u001b[0;31m:\u001b[0m invalid syntax\n"
          ]
        }
      ],
      "source": [
        "with open(\"arquivo.txt\")ast:\n",
        "    for linho int:\n",
        "      print(linho)"
      ]
    },
    {
      "cell_type": "code",
      "execution_count": null,
      "metadata": {
        "colab": {
          "base_uri": "https://localhost:8080/",
          "height": 159
        },
        "id": "5df912i5mNMx",
        "outputId": "3f32a346-435e-4f2e-dac8-8b37d886ea59"
      },
      "outputs": [
        {
          "ename": "TypeError",
          "evalue": "'list' object is not callable",
          "output_type": "error",
          "traceback": [
            "\u001b[0;31m---------------------------------------------------------------------------\u001b[0m",
            "\u001b[0;31mTypeError\u001b[0m                                 Traceback (most recent call last)",
            "\u001b[0;32m/tmp/ipython-input-47-2239074831.py\u001b[0m in \u001b[0;36m<cell line: 0>\u001b[0;34m()\u001b[0m\n\u001b[1;32m      1\u001b[0m \u001b[0ma\u001b[0m\u001b[0;34m=\u001b[0m\u001b[0;34m[\u001b[0m\u001b[0melemento\u001b[0m \u001b[0;32mfor\u001b[0m \u001b[0melemento\u001b[0m \u001b[0;32min\u001b[0m \u001b[0;34m[\u001b[0m\u001b[0;36m1\u001b[0m\u001b[0;34m,\u001b[0m\u001b[0;36m2\u001b[0m\u001b[0;34m,\u001b[0m\u001b[0;36m3\u001b[0m\u001b[0;34m,\u001b[0m\u001b[0;36m4\u001b[0m\u001b[0;34m]\u001b[0m\u001b[0;34m]\u001b[0m\u001b[0;34m\u001b[0m\u001b[0;34m\u001b[0m\u001b[0m\n\u001b[0;32m----> 2\u001b[0;31m \u001b[0mprint\u001b[0m\u001b[0;34m(\u001b[0m\u001b[0ma\u001b[0m\u001b[0;34m)\u001b[0m\u001b[0;34m\u001b[0m\u001b[0;34m\u001b[0m\u001b[0m\n\u001b[0m",
            "\u001b[0;31mTypeError\u001b[0m: 'list' object is not callable"
          ]
        }
      ],
      "source": [
        "a=[elemento for elemento in [1,2,3,4]]\n",
        "print(a)"
      ]
    },
    {
      "cell_type": "code",
      "execution_count": null,
      "metadata": {
        "colab": {
          "base_uri": "https://localhost:8080/",
          "height": 159
        },
        "id": "V58NbvxdldjR",
        "outputId": "7bbaf7f4-9851-4172-e91d-f9231c4e0d25"
      },
      "outputs": [
        {
          "ename": "TypeError",
          "evalue": "'list' object is not callable",
          "output_type": "error",
          "traceback": [
            "\u001b[0;31m---------------------------------------------------------------------------\u001b[0m",
            "\u001b[0;31mTypeError\u001b[0m                                 Traceback (most recent call last)",
            "\u001b[0;32m/tmp/ipython-input-36-1165661144.py\u001b[0m in \u001b[0;36m<cell line: 0>\u001b[0;34m()\u001b[0m\n\u001b[1;32m      1\u001b[0m \u001b[0mb\u001b[0m\u001b[0;34m=\u001b[0m\u001b[0;34m[\u001b[0m\u001b[0melemento\u001b[0m\u001b[0;34m*\u001b[0m\u001b[0;36m2\u001b[0m \u001b[0;32mfor\u001b[0m \u001b[0melemento\u001b[0m \u001b[0;32min\u001b[0m \u001b[0;34m[\u001b[0m\u001b[0;36m1\u001b[0m\u001b[0;34m,\u001b[0m\u001b[0;36m2\u001b[0m\u001b[0;34m,\u001b[0m\u001b[0;36m3\u001b[0m\u001b[0;34m,\u001b[0m\u001b[0;36m4\u001b[0m\u001b[0;34m]\u001b[0m \u001b[0;32mif\u001b[0m \u001b[0melemento\u001b[0m \u001b[0;34m%\u001b[0m\u001b[0;36m2\u001b[0m\u001b[0;34m==\u001b[0m\u001b[0;36m0\u001b[0m\u001b[0;34m]\u001b[0m\u001b[0;34m\u001b[0m\u001b[0;34m\u001b[0m\u001b[0m\n\u001b[0;32m----> 2\u001b[0;31m \u001b[0mprint\u001b[0m\u001b[0;34m(\u001b[0m\u001b[0mb\u001b[0m\u001b[0;34m)\u001b[0m\u001b[0;34m\u001b[0m\u001b[0;34m\u001b[0m\u001b[0m\n\u001b[0m",
            "\u001b[0;31mTypeError\u001b[0m: 'list' object is not callable"
          ]
        }
      ],
      "source": [
        "b=[elemento*2 for elemento in [1,2,3,4] if elemento %2==0]\n",
        "print(b)"
      ]
    },
    {
      "cell_type": "code",
      "execution_count": null,
      "metadata": {
        "colab": {
          "base_uri": "https://localhost:8080/",
          "height": 176
        },
        "id": "bW1X5eYSxbcy",
        "outputId": "b7e891ca-9699-4483-845f-897b40a660ab"
      },
      "outputs": [
        {
          "ename": "ValueError",
          "evalue": "too many values to unpack (expected 2)",
          "output_type": "error",
          "traceback": [
            "\u001b[0;31m---------------------------------------------------------------------------\u001b[0m",
            "\u001b[0;31mValueError\u001b[0m                                Traceback (most recent call last)",
            "\u001b[0;32m/tmp/ipython-input-21-3362916895.py\u001b[0m in \u001b[0;36m<cell line: 0>\u001b[0;34m()\u001b[0m\n\u001b[1;32m      1\u001b[0m \u001b[0mpessoas\u001b[0m \u001b[0;34m=\u001b[0m \u001b[0;34m{\u001b[0m\u001b[0;34m\"nome\"\u001b[0m\u001b[0;34m:\u001b[0m\u001b[0;34m\"roberto\"\u001b[0m\u001b[0;34m,\u001b[0m\u001b[0;34m\"idade\"\u001b[0m\u001b[0;34m:\u001b[0m\u001b[0;34m\"20\"\u001b[0m\u001b[0;34m,\u001b[0m\u001b[0;34m\"profissão\"\u001b[0m\u001b[0;34m:\u001b[0m\u001b[0;34m\"programador\"\u001b[0m\u001b[0;34m}\u001b[0m\u001b[0;34m\u001b[0m\u001b[0;34m\u001b[0m\u001b[0m\n\u001b[0;32m----> 2\u001b[0;31m \u001b[0;32mfor\u001b[0m \u001b[0mchave\u001b[0m\u001b[0;34m,\u001b[0m\u001b[0mvalor\u001b[0m \u001b[0;32min\u001b[0m \u001b[0mpessoas\u001b[0m\u001b[0;34m.\u001b[0m\u001b[0mvalues\u001b[0m\u001b[0;34m(\u001b[0m\u001b[0;34m)\u001b[0m\u001b[0;34m:\u001b[0m\u001b[0;34m\u001b[0m\u001b[0;34m\u001b[0m\u001b[0m\n\u001b[0m\u001b[1;32m      3\u001b[0m     \u001b[0mprint\u001b[0m\u001b[0;34m(\u001b[0m\u001b[0mchave\u001b[0m\u001b[0;34m,\u001b[0m\u001b[0;34m\"-\"\u001b[0m\u001b[0;34m,\u001b[0m\u001b[0mvalor\u001b[0m\u001b[0;34m)\u001b[0m\u001b[0;34m\u001b[0m\u001b[0;34m\u001b[0m\u001b[0m\n",
            "\u001b[0;31mValueError\u001b[0m: too many values to unpack (expected 2)"
          ]
        }
      ],
      "source": [
        "pessoas = {\"nome\":\"roberto\",\"idade\":\"20\",\"profissão\":\"programador\"}\n",
        "for chave,valor in pessoas.values():\n",
        "    print(chave,\"-\",valor)"
      ]
    },
    {
      "cell_type": "code",
      "execution_count": null,
      "metadata": {
        "colab": {
          "base_uri": "https://localhost:8080/",
          "height": 176
        },
        "id": "heUcoDg2sx_A",
        "outputId": "402ef7db-24c2-4e76-a475-8fa629c322a9"
      },
      "outputs": [
        {
          "ename": "TypeError",
          "evalue": "'list' object is not callable",
          "output_type": "error",
          "traceback": [
            "\u001b[0;31m---------------------------------------------------------------------------\u001b[0m",
            "\u001b[0;31mTypeError\u001b[0m                                 Traceback (most recent call last)",
            "\u001b[0;32m/tmp/ipython-input-23-1114451774.py\u001b[0m in \u001b[0;36m<cell line: 0>\u001b[0;34m()\u001b[0m\n\u001b[1;32m      1\u001b[0m \u001b[0mpessoas\u001b[0m \u001b[0;34m=\u001b[0m \u001b[0;34m{\u001b[0m\u001b[0;34m\"nome\"\u001b[0m\u001b[0;34m:\u001b[0m\u001b[0;34m\"roberto\"\u001b[0m\u001b[0;34m,\u001b[0m\u001b[0;34m\"idade\"\u001b[0m\u001b[0;34m:\u001b[0m\u001b[0;34m\"20\"\u001b[0m\u001b[0;34m,\u001b[0m\u001b[0;34m\"profissão\"\u001b[0m\u001b[0;34m:\u001b[0m\u001b[0;34m\"programador\"\u001b[0m\u001b[0;34m}\u001b[0m\u001b[0;34m\u001b[0m\u001b[0;34m\u001b[0m\u001b[0m\n\u001b[1;32m      2\u001b[0m \u001b[0;32mfor\u001b[0m \u001b[0mchave\u001b[0m\u001b[0;34m,\u001b[0m\u001b[0mvalor\u001b[0m \u001b[0;32min\u001b[0m \u001b[0mpessoas\u001b[0m\u001b[0;34m.\u001b[0m\u001b[0mitems\u001b[0m\u001b[0;34m(\u001b[0m\u001b[0;34m)\u001b[0m\u001b[0;34m:\u001b[0m\u001b[0;34m\u001b[0m\u001b[0;34m\u001b[0m\u001b[0m\n\u001b[0;32m----> 3\u001b[0;31m     \u001b[0mprint\u001b[0m\u001b[0;34m(\u001b[0m\u001b[0mchave\u001b[0m\u001b[0;34m,\u001b[0m\u001b[0;34m\"-\"\u001b[0m\u001b[0;34m,\u001b[0m\u001b[0mvalor\u001b[0m\u001b[0;34m)\u001b[0m\u001b[0;34m\u001b[0m\u001b[0;34m\u001b[0m\u001b[0m\n\u001b[0m",
            "\u001b[0;31mTypeError\u001b[0m: 'list' object is not callable"
          ]
        }
      ],
      "source": [
        "pessoas = {\"nome\":\"roberto\",\"idade\":\"20\",\"profissão\":\"programador\"}\n",
        "for chave,valor in pessoas.items():\n",
        "    print(chave,\"-\",valor)"
      ]
    },
    {
      "cell_type": "code",
      "execution_count": null,
      "metadata": {
        "colab": {
          "base_uri": "https://localhost:8080/",
          "height": 220
        },
        "id": "vYp065ezERBN",
        "outputId": "85c9d4a2-24d7-451b-d999-d1933c6515bf"
      },
      "outputs": [
        {
          "ename": "NameError",
          "evalue": "name 'true' is not defined",
          "output_type": "error",
          "traceback": [
            "\u001b[0;31m---------------------------------------------------------------------------\u001b[0m",
            "\u001b[0;31mNameError\u001b[0m                                 Traceback (most recent call last)",
            "\u001b[0;32m/tmp/ipython-input-7-1534884616.py\u001b[0m in \u001b[0;36m<cell line: 0>\u001b[0;34m()\u001b[0m\n\u001b[1;32m      1\u001b[0m \u001b[0mtarefas\u001b[0m \u001b[0;34m=\u001b[0m \u001b[0;34m[\u001b[0m\u001b[0;34m]\u001b[0m\u001b[0;34m\u001b[0m\u001b[0;34m\u001b[0m\u001b[0m\n\u001b[0;32m----> 2\u001b[0;31m \u001b[0;32mwhile\u001b[0m \u001b[0mtrue\u001b[0m\u001b[0;34m:\u001b[0m\u001b[0;34m\u001b[0m\u001b[0;34m\u001b[0m\u001b[0m\n\u001b[0m\u001b[1;32m      3\u001b[0m   \u001b[0mprint\u001b[0m\u001b[0;34m(\u001b[0m\u001b[0;34m\"n1. adicionar tarefa\"\u001b[0m\u001b[0;34m)\u001b[0m\u001b[0;34m\u001b[0m\u001b[0;34m\u001b[0m\u001b[0m\n\u001b[1;32m      4\u001b[0m   \u001b[0mprint\u001b[0m\u001b[0;34m(\u001b[0m\u001b[0;34m\"n2. lista tarefas\"\u001b[0m\u001b[0;34m)\u001b[0m\u001b[0;34m\u001b[0m\u001b[0;34m\u001b[0m\u001b[0m\n\u001b[1;32m      5\u001b[0m   \u001b[0mprint\u001b[0m\u001b[0;34m(\u001b[0m\u001b[0;34m\"n3. sair\"\u001b[0m\u001b[0;34m)\u001b[0m\u001b[0;34m\u001b[0m\u001b[0;34m\u001b[0m\u001b[0m\n",
            "\u001b[0;31mNameError\u001b[0m: name 'true' is not defined"
          ]
        }
      ],
      "source": [
        "tarefas = []\n",
        "while true:\n",
        "  print(\"n1. adicionar tarefa\")\n",
        "  print(\"n2. lista tarefas\")\n",
        "  print(\"n3. sair\")\n",
        "  oprcao = input(\"escolha uma opcção: \")\n",
        "  if opcao ==\"1\":\n",
        "    descricao = input(\"digite tarefa\")\n",
        "    tarefas.append(descricao)\n",
        "    prnit(\"tarefa adicionada\")\n",
        "  elif opcao == \"2\":\n",
        "    print(\"tarefa adicionada!\")\n",
        "    for i, tarefa in enumerate(tarefas, 1):\n",
        "        print(f\"{i}. {tarefa}\")\n",
        "  elif opcao ==\"3\":\n",
        "    print(\"saindo\")\n",
        "    break\n",
        "  else:\n",
        "    print(\"opção invalida\")"
      ]
    },
    {
      "cell_type": "code",
      "execution_count": null,
      "metadata": {
        "id": "M6x5uX5mUnRo"
      },
      "outputs": [],
      "source": []
    },
    {
      "cell_type": "code",
      "execution_count": null,
      "metadata": {
        "colab": {
          "base_uri": "https://localhost:8080/",
          "height": 228
        },
        "id": "CAaadJiSNFey",
        "outputId": "c0c463d1-999e-4457-c7e2-525987806e2a"
      },
      "outputs": [
        {
          "name": "stdout",
          "output_type": "stream",
          "text": [
            "digite o preço do produto\n"
          ]
        },
        {
          "ename": "ValueError",
          "evalue": "invalid literal for int() with base 10: ''",
          "output_type": "error",
          "traceback": [
            "\u001b[0;31m---------------------------------------------------------------------------\u001b[0m",
            "\u001b[0;31mValueError\u001b[0m                                Traceback (most recent call last)",
            "\u001b[0;32m/tmp/ipython-input-25-718282554.py\u001b[0m in \u001b[0;36m<cell line: 0>\u001b[0;34m()\u001b[0m\n\u001b[1;32m      2\u001b[0m \u001b[0msoma\u001b[0m \u001b[0;34m=\u001b[0m \u001b[0;36m0\u001b[0m\u001b[0;34m\u001b[0m\u001b[0;34m\u001b[0m\u001b[0m\n\u001b[1;32m      3\u001b[0m \u001b[0;32mwhile\u001b[0m \u001b[0mcompra\u001b[0m \u001b[0;34m!=\u001b[0m \u001b[0;34m'sair'\u001b[0m\u001b[0;34m:\u001b[0m\u001b[0;34m\u001b[0m\u001b[0;34m\u001b[0m\u001b[0m\n\u001b[0;32m----> 4\u001b[0;31m   \u001b[0msoma\u001b[0m \u001b[0;34m=\u001b[0m \u001b[0msoma\u001b[0m \u001b[0;34m+\u001b[0m \u001b[0mint\u001b[0m\u001b[0;34m(\u001b[0m\u001b[0mcompra\u001b[0m\u001b[0;34m)\u001b[0m\u001b[0;34m\u001b[0m\u001b[0;34m\u001b[0m\u001b[0m\n\u001b[0m\u001b[1;32m      5\u001b[0m   \u001b[0mcompra\u001b[0m \u001b[0;34m=\u001b[0m \u001b[0minput\u001b[0m\u001b[0;34m(\u001b[0m\u001b[0;34m'digite o preço do produto'\u001b[0m\u001b[0;34m)\u001b[0m\u001b[0;34m\u001b[0m\u001b[0;34m\u001b[0m\u001b[0m\n\u001b[1;32m      6\u001b[0m \u001b[0;32melse\u001b[0m\u001b[0;34m:\u001b[0m\u001b[0;34m\u001b[0m\u001b[0;34m\u001b[0m\u001b[0m\n",
            "\u001b[0;31mValueError\u001b[0m: invalid literal for int() with base 10: ''"
          ]
        }
      ],
      "source": [
        "compra = (input('digite o preço do produto'))\n",
        "soma = 0\n",
        "while compra != 'sair':\n",
        "  soma = soma + int(compra)\n",
        "  compra = input('digite o preço do produto')\n",
        "else:\n",
        "  total_sum = soma # Renamed the variable from 'print' to 'total_sum'\n",
        "  print(total_sum) # Use the built-in print function\n",
        "\n",
        "if soma >=100:\n",
        "  desconto = soma * 0.10\n",
        "  print (soma-desconto)"
      ]
    },
    {
      "cell_type": "code",
      "execution_count": null,
      "metadata": {
        "colab": {
          "base_uri": "https://localhost:8080/",
          "height": 263
        },
        "id": "QGcWuGHRh98o",
        "outputId": "d800b649-6222-4e8f-8617-6c9501ade046"
      },
      "outputs": [
        {
          "name": "stdout",
          "output_type": "stream",
          "text": [
            "digite o preço do produto120\n",
            "digite o preço do produto120\n",
            "digite o preço do produtosair\n"
          ]
        },
        {
          "ename": "TypeError",
          "evalue": "'int' object is not callable",
          "output_type": "error",
          "traceback": [
            "\u001b[0;31m---------------------------------------------------------------------------\u001b[0m",
            "\u001b[0;31mTypeError\u001b[0m                                 Traceback (most recent call last)",
            "\u001b[0;32m/tmp/ipython-input-80-536584828.py\u001b[0m in \u001b[0;36m<cell line: 0>\u001b[0;34m()\u001b[0m\n\u001b[1;32m      5\u001b[0m   \u001b[0mcompra\u001b[0m \u001b[0;34m=\u001b[0m \u001b[0minput\u001b[0m\u001b[0;34m(\u001b[0m\u001b[0;34m'digite o preço do produto'\u001b[0m\u001b[0;34m)\u001b[0m\u001b[0;34m\u001b[0m\u001b[0;34m\u001b[0m\u001b[0m\n\u001b[1;32m      6\u001b[0m \u001b[0;34m\u001b[0m\u001b[0m\n\u001b[0;32m----> 7\u001b[0;31m \u001b[0mprint\u001b[0m\u001b[0;34m(\u001b[0m\u001b[0msoma\u001b[0m\u001b[0;34m)\u001b[0m\u001b[0;34m\u001b[0m\u001b[0;34m\u001b[0m\u001b[0m\n\u001b[0m\u001b[1;32m      8\u001b[0m \u001b[0;32mif\u001b[0m \u001b[0msoma\u001b[0m \u001b[0;34m>=\u001b[0m\u001b[0;36m100\u001b[0m\u001b[0;34m:\u001b[0m\u001b[0;34m\u001b[0m\u001b[0;34m\u001b[0m\u001b[0m\n\u001b[1;32m      9\u001b[0m   \u001b[0mdesconto\u001b[0m \u001b[0;34m=\u001b[0m \u001b[0msoma\u001b[0m \u001b[0;34m*\u001b[0m \u001b[0;36m0.10\u001b[0m\u001b[0;34m\u001b[0m\u001b[0;34m\u001b[0m\u001b[0m\n",
            "\u001b[0;31mTypeError\u001b[0m: 'int' object is not callable"
          ]
        }
      ],
      "source": [
        "compra = (input('digite o preço do produto'))\n",
        "soma = 0\n",
        "while compra != 'sair':\n",
        "  soma = soma + int(compra)\n",
        "  compra = input('digite o preço do produto')\n",
        "\n",
        "print(soma)\n",
        "if soma >=100:\n",
        "  desconto = soma * 0.10\n",
        "  print (soma-desconto)\n",
        "\n"
      ]
    },
    {
      "cell_type": "code",
      "execution_count": null,
      "metadata": {
        "id": "6yGTqIloEwhq"
      },
      "outputs": [],
      "source": [
        "pontos = 100\n",
        "multiplicador = 2\n",
        "vida = 100\n",
        "bonus = 10\n",
        "resultado_calculo = (pontos * multiplicador + vida * bonus)"
      ]
    },
    {
      "cell_type": "code",
      "execution_count": null,
      "metadata": {
        "colab": {
          "base_uri": "https://localhost:8080/",
          "height": 228
        },
        "id": "1TwkpX0Vb9Cb",
        "outputId": "f1f9ab56-27f0-4530-a74c-8ba170320789"
      },
      "outputs": [
        {
          "name": "stdout",
          "output_type": "stream",
          "text": [
            "digite o preço do produteo1200\n"
          ]
        },
        {
          "ename": "TypeError",
          "evalue": "'int' object is not callable",
          "output_type": "error",
          "traceback": [
            "\u001b[0;31m---------------------------------------------------------------------------\u001b[0m",
            "\u001b[0;31mTypeError\u001b[0m                                 Traceback (most recent call last)",
            "\u001b[0;32m/tmp/ipython-input-81-2617997989.py\u001b[0m in \u001b[0;36m<cell line: 0>\u001b[0;34m()\u001b[0m\n\u001b[1;32m      2\u001b[0m \u001b[0mmatch\u001b[0m \u001b[0mpreco\u001b[0m\u001b[0;34m:\u001b[0m\u001b[0;34m\u001b[0m\u001b[0;34m\u001b[0m\u001b[0m\n\u001b[1;32m      3\u001b[0m   \u001b[0mcase\u001b[0m \u001b[0m_\u001b[0m \u001b[0;32mif\u001b[0m \u001b[0mpreco\u001b[0m \u001b[0;34m>=\u001b[0m\u001b[0;36m1000\u001b[0m\u001b[0;34m:\u001b[0m\u001b[0;34m\u001b[0m\u001b[0;34m\u001b[0m\u001b[0m\n\u001b[0;32m----> 4\u001b[0;31m     \u001b[0mprint\u001b[0m\u001b[0;34m(\u001b[0m\u001b[0;34m'você recebeu 20% de desconto'\u001b[0m\u001b[0;34m)\u001b[0m\u001b[0;34m\u001b[0m\u001b[0;34m\u001b[0m\u001b[0m\n\u001b[0m\u001b[1;32m      5\u001b[0m   \u001b[0mcase\u001b[0m \u001b[0m_\u001b[0m \u001b[0;32mif\u001b[0m \u001b[0mpreco\u001b[0m \u001b[0;34m>=\u001b[0m\u001b[0;36m500\u001b[0m\u001b[0;34m:\u001b[0m\u001b[0;34m\u001b[0m\u001b[0;34m\u001b[0m\u001b[0m\n\u001b[1;32m      6\u001b[0m     \u001b[0mprint\u001b[0m\u001b[0;34m(\u001b[0m\u001b[0;34m'voce recebeu 15% de desconto'\u001b[0m\u001b[0;34m)\u001b[0m\u001b[0;34m\u001b[0m\u001b[0;34m\u001b[0m\u001b[0m\n",
            "\u001b[0;31mTypeError\u001b[0m: 'int' object is not callable"
          ]
        }
      ],
      "source": [
        "preco = int(input('digite o preço do produteo'))\n",
        "match preco:\n",
        "  case _ if preco >=1000:\n",
        "    print('você recebeu 20% de desconto')\n",
        "  case _ if preco >=500:\n",
        "    print('voce recebeu 15% de desconto')\n",
        "  case _ if preco >=100:\n",
        "    print('voce recebeu 10% de desconto')\n",
        "  case _:\n",
        "    print('sem desconto')"
      ]
    },
    {
      "cell_type": "code",
      "execution_count": null,
      "metadata": {
        "colab": {
          "base_uri": "https://localhost:8080/"
        },
        "id": "SSxTpAemGsDb",
        "outputId": "4de8e0c0-d505-4dbd-fb6c-14440dbd9fd4"
      },
      "outputs": [
        {
          "name": "stdout",
          "output_type": "stream",
          "text": [
            "Jogado 1, digite o numero5\n",
            "Jogador 2, digite o número2\n",
            "A soma é um número impar.\n"
          ]
        }
      ],
      "source": [
        "jogador1 = int(input('Jogado 1, digite o numero'))\n",
        "jogador2 = int(input('Jogador 2, digite o número'))\n",
        "soma = jogador1 + jogador2\n",
        "\n",
        "match soma % 2 ==0:\n",
        "  case 0:\n",
        "    print('A soma é um número impar.')\n",
        "  case 1:\n",
        "    print('A soma é um número par.')"
      ]
    },
    {
      "cell_type": "code",
      "execution_count": null,
      "metadata": {
        "colab": {
          "base_uri": "https://localhost:8080/"
        },
        "id": "_CfrOP6zBZoY",
        "outputId": "5e0169d6-9225-41df-890c-53e731ab920e"
      },
      "outputs": [
        {
          "name": "stdout",
          "output_type": "stream",
          "text": [
            "feijoada frango lasanha costelafrango\n",
            "voce escolheu frango cozido\n"
          ]
        }
      ],
      "source": [
        "prato = input('feijoada frango lasanha costela')\n",
        "match prato:\n",
        "  case 'feijoada':\n",
        "    print('voce escolheu feijoada')\n",
        "  case 'frango':\n",
        "    print('voce escolheu frango cozido')\n",
        "  case 'lasanha':\n",
        "    print('voce escolheu lasanha')\n",
        "  case 'costela':\n",
        "    print('voce escolheu costela')\n",
        "  case _:\n",
        "    ('opção invalida')"
      ]
    },
    {
      "cell_type": "code",
      "execution_count": null,
      "metadata": {
        "id": "9-j4oBYFBXfS"
      },
      "outputs": [],
      "source": [
        "idade = int(input('digite a idade: '))\n",
        "\n",
        "match idade:\n",
        "  case _ if idade<18:\n",
        "    print('menor de idade')\n",
        "  case _:\n",
        "    print('maior de idade')"
      ]
    },
    {
      "cell_type": "code",
      "execution_count": null,
      "metadata": {
        "id": "03UHKmTwlrzL"
      },
      "outputs": [],
      "source": [
        "preço=int(input('valor da compra'))\n",
        "desconto=int(input('digite o desconto'))\n",
        "if preço > 100:\n",
        "  print(preço * desconto / 100)\n",
        "else:\n",
        "  print('sem desconto')"
      ]
    },
    {
      "cell_type": "code",
      "execution_count": null,
      "metadata": {
        "collapsed": true,
        "id": "snvF28jXhwaz"
      },
      "outputs": [],
      "source": [
        "peso= float(input('digite peso'))\n",
        "altura= float(input('digite altura'))\n",
        "imc= peso / altura * altura\n",
        "if imc < 18.5:\n",
        "  print('magreza')\n",
        "elif imc < 24.9:\n",
        "  print('normal')\n",
        "elif imc < 29.9:\n",
        "  print('sobrepeso')\n",
        "elif imc < 39.9:\n",
        "  print('obesidade')\n",
        "else:\n",
        "  print('obesidade grave')"
      ]
    },
    {
      "cell_type": "code",
      "execution_count": null,
      "metadata": {
        "colab": {
          "base_uri": "https://localhost:8080/"
        },
        "id": "mT7gQoHxvJ3j",
        "outputId": "93c7b972-0da1-4102-cadc-c31be6e4e866"
      },
      "outputs": [
        {
          "name": "stdout",
          "output_type": "stream",
          "text": [
            "digite seu nome6\n",
            "digite sua primeira nota7\n",
            "digite sua segunda nota8\n"
          ]
        }
      ],
      "source": [
        "nome=input('digite seu nome')\n",
        "nota1=int(input('digite sua primeira nota'))\n",
        "nota2=int(input('digite sua segunda nota'))\n",
        "if nota1>=7 & nota2>=7:\n",
        "  print('nome aprovado')\n",
        "elif nota1<6 & nota2<6:\n",
        "  print('reprovado')"
      ]
    },
    {
      "cell_type": "code",
      "execution_count": null,
      "metadata": {
        "colab": {
          "base_uri": "https://localhost:8080/"
        },
        "id": "3cvn8lDgnNyj",
        "outputId": "ba13521f-f68e-4a57-81ba-bfcc5075b134"
      },
      "outputs": [
        {
          "name": "stdout",
          "output_type": "stream",
          "text": [
            "impar ou par?5\n",
            "impar ou par?5\n",
            "par\n"
          ]
        }
      ],
      "source": [
        "player1=int(input('impar ou par?'))\n",
        "player2=(int(input('impar ou par?')))\n",
        "if ((player1 + player2) % 2 == 0):\n",
        "  print('par')\n",
        "else:\n",
        "  print('impar')"
      ]
    },
    {
      "cell_type": "code",
      "execution_count": null,
      "metadata": {
        "colab": {
          "base_uri": "https://localhost:8080/"
        },
        "id": "rQswFyMkhy_K",
        "outputId": "df506ef9-174b-43b3-e7f8-742f424702fa"
      },
      "outputs": [
        {
          "name": "stdout",
          "output_type": "stream",
          "text": [
            "pedra papel tesouratesoura\n",
            "pedra papel tesourapapel\n",
            "player1 venceu\n"
          ]
        }
      ],
      "source": [
        "player1=input('pedra papel tesoura')\n",
        "player2=input('pedra papel tesoura')\n",
        "if player1==player2:\n",
        "  print('empate')\n",
        "elif (player1=='pedra') & (player2=='tesoura'):\n",
        "  print('player1 venceu')\n",
        "elif (player1==\"pedra\") & (player2=='papel'):\n",
        "  print('player2 venceu')\n",
        "elif (player1=='papel') & (player2=='tesoura'):\n",
        "  print('player2 venceu')\n",
        "elif (player1=='papel') & (player2=='pedra'):\n",
        "  print('player1 venceu')\n",
        "elif (player1=='tesoura') & (player2=='papel'):\n",
        "  print('player1 venceu')\n",
        "elif (player1=='tesoura') & (player2=='pedra'):\n",
        "  print('player2 venceu')"
      ]
    },
    {
      "cell_type": "markdown",
      "metadata": {
        "id": "tjlrXkXNcxE1"
      },
      "source": [
        "questão 14"
      ]
    },
    {
      "cell_type": "code",
      "execution_count": null,
      "metadata": {
        "colab": {
          "base_uri": "https://localhost:8080/"
        },
        "id": "CwmyUO5YZEzF",
        "outputId": "c0c87956-ff26-403d-bae3-9790c0829243"
      },
      "outputs": [
        {
          "name": "stdout",
          "output_type": "stream",
          "text": [
            "digite o preço do produto50\n",
            "digite o desconto10\n",
            "5.0\n"
          ]
        }
      ],
      "source": [
        "preço=int(input('digite o preço do produto'))\n",
        "desconto=int(input('digite o desconto'))\n",
        "print(preço*desconto/15)"
      ]
    },
    {
      "cell_type": "markdown",
      "metadata": {
        "id": "cTKQjfRWXtVF"
      },
      "source": [
        "questao 13"
      ]
    },
    {
      "cell_type": "code",
      "execution_count": null,
      "metadata": {
        "colab": {
          "base_uri": "https://localhost:8080/"
        },
        "id": "hWlZ7018Xs7N",
        "outputId": "7c39f074-71d2-4adb-9102-c41e8a475a7b"
      },
      "outputs": [
        {
          "name": "stdout",
          "output_type": "stream",
          "text": [
            "digite um numero5\n",
            "2.5 150.0\n"
          ]
        }
      ],
      "source": [
        "numero=int(input('digite um numero'))\n",
        "minutos=numero/2\n",
        "segundos=minutos*60\n",
        "print(minutos,segundos)"
      ]
    },
    {
      "cell_type": "markdown",
      "metadata": {
        "id": "lsz9YUAIW2e9"
      },
      "source": [
        "questão12"
      ]
    },
    {
      "cell_type": "code",
      "execution_count": null,
      "metadata": {
        "colab": {
          "base_uri": "https://localhost:8080/",
          "height": 106
        },
        "id": "qSznfl6RW1zN",
        "outputId": "f4d57fda-e844-476b-b618-97701f55fa41"
      },
      "outputs": [
        {
          "ename": "SyntaxError",
          "evalue": "invalid syntax (ipython-input-82-3016137392.py, line 2)",
          "output_type": "error",
          "traceback": [
            "\u001b[0;36m  File \u001b[0;32m\"/tmp/ipython-input-82-3016137392.py\"\u001b[0;36m, line \u001b[0;32m2\u001b[0m\n\u001b[0;31m    if a*==5:\u001b[0m\n\u001b[0m        ^\u001b[0m\n\u001b[0;31mSyntaxError\u001b[0m\u001b[0;31m:\u001b[0m invalid syntax\n"
          ]
        }
      ],
      "source": [
        "a=int(input('digite um numero'))\n",
        "if a*==5:\n",
        "  print('é multiplo de 5')\n",
        "else:\n",
        "  print('não é multiplo de 5')\n",
        "  b=int(input('digite outro numero'))\n",
        "  if b*==5:\n",
        "    print('é multiplo de 5')\n",
        "  else:\n",
        "    print('não é multiplo de 5')"
      ]
    },
    {
      "cell_type": "markdown",
      "metadata": {
        "id": "p-9KGnvvVcCl"
      },
      "source": [
        "questão 11"
      ]
    },
    {
      "cell_type": "code",
      "execution_count": null,
      "metadata": {
        "id": "NDDPjUQOUGgO"
      },
      "outputs": [],
      "source": [
        "a=int(input('digite um numero'))\n",
        "\n"
      ]
    },
    {
      "cell_type": "markdown",
      "metadata": {
        "id": "6vxPDnRMVkGk"
      },
      "source": [
        "questão 10"
      ]
    },
    {
      "cell_type": "code",
      "execution_count": null,
      "metadata": {
        "colab": {
          "base_uri": "https://localhost:8080/"
        },
        "id": "1m-bTksUTc8u",
        "outputId": "e674a504-c57f-4550-f9d1-83b51b648692"
      },
      "outputs": [
        {
          "name": "stdout",
          "output_type": "stream",
          "text": [
            "digite um numero2\n",
            "digite outro numero3\n"
          ]
        },
        {
          "data": {
            "text/plain": [
              "False"
            ]
          },
          "execution_count": 42,
          "metadata": {},
          "output_type": "execute_result"
        }
      ],
      "source": [
        "a=int(input('digite um numero'))\n",
        "b=int(input('digite outro numero'))\n",
        "a==b"
      ]
    },
    {
      "cell_type": "markdown",
      "metadata": {
        "id": "go9oloMdV4Ll"
      },
      "source": [
        "questão 9"
      ]
    },
    {
      "cell_type": "code",
      "execution_count": null,
      "metadata": {
        "colab": {
          "base_uri": "https://localhost:8080/"
        },
        "id": "riN27O6iSqG2",
        "outputId": "b6a5b088-d35d-425d-db1f-e41dbbfdb10a"
      },
      "outputs": [
        {
          "name": "stdout",
          "output_type": "stream",
          "text": [
            "digite sua nota1\n",
            "digite sua nota2\n",
            "digite sua nota3\n",
            "6.0\n"
          ]
        }
      ],
      "source": [
        "nota1=float(input('digite sua nota'))\n",
        "nota2=float(input('digite sua nota'))\n",
        "nota3=float(input('digite sua nota'))\n",
        "media=(nota1+nota2+nota3)\n",
        "print(media)"
      ]
    },
    {
      "cell_type": "code",
      "execution_count": null,
      "metadata": {
        "id": "npMI-RZIR9yW"
      },
      "outputs": [],
      "source": []
    },
    {
      "cell_type": "markdown",
      "metadata": {
        "id": "9zQ1HMi9V7B8"
      },
      "source": [
        "questão 8"
      ]
    },
    {
      "cell_type": "code",
      "execution_count": null,
      "metadata": {
        "colab": {
          "base_uri": "https://localhost:8080/"
        },
        "id": "8yY8KmIdSQCt",
        "outputId": "aee434c8-2410-447d-c591-4a75ae17cc88"
      },
      "outputs": [
        {
          "name": "stdout",
          "output_type": "stream",
          "text": [
            "digite um numero5\n",
            "digite outro numero2\n"
          ]
        },
        {
          "data": {
            "text/plain": [
              "True"
            ]
          },
          "execution_count": 37,
          "metadata": {},
          "output_type": "execute_result"
        }
      ],
      "source": [
        "a=int(input('digite um numero'))\n",
        "b=int(input('digite outro numero'))\n",
        "a>b"
      ]
    },
    {
      "cell_type": "markdown",
      "metadata": {
        "id": "kBXWwY7FV_LE"
      },
      "source": [
        "questão 7"
      ]
    },
    {
      "cell_type": "code",
      "execution_count": null,
      "metadata": {
        "colab": {
          "base_uri": "https://localhost:8080/",
          "height": 356
        },
        "id": "zszd7FakRh39",
        "outputId": "1501d505-4b48-4860-c7d4-34f39213a779"
      },
      "outputs": [
        {
          "ename": "KeyboardInterrupt",
          "evalue": "Interrupted by user",
          "output_type": "error",
          "traceback": [
            "\u001b[0;31m---------------------------------------------------------------------------\u001b[0m",
            "\u001b[0;31mKeyboardInterrupt\u001b[0m                         Traceback (most recent call last)",
            "\u001b[0;32m/tmp/ipython-input-54-2707060304.py\u001b[0m in \u001b[0;36m<cell line: 0>\u001b[0;34m()\u001b[0m\n\u001b[0;32m----> 1\u001b[0;31m \u001b[0midade\u001b[0m\u001b[0;34m=\u001b[0m\u001b[0mint\u001b[0m\u001b[0;34m(\u001b[0m\u001b[0minput\u001b[0m\u001b[0;34m(\u001b[0m\u001b[0;34m'digite sua idade'\u001b[0m\u001b[0;34m)\u001b[0m\u001b[0;34m)\u001b[0m\u001b[0;34m\u001b[0m\u001b[0;34m\u001b[0m\u001b[0m\n\u001b[0m\u001b[1;32m      2\u001b[0m \u001b[0;32mif\u001b[0m \u001b[0midade\u001b[0m\u001b[0;34m>=\u001b[0m\u001b[0;36m18\u001b[0m\u001b[0;34m:\u001b[0m\u001b[0;34m\u001b[0m\u001b[0;34m\u001b[0m\u001b[0m\n\u001b[1;32m      3\u001b[0m   \u001b[0mprint\u001b[0m\u001b[0;34m(\u001b[0m\u001b[0;34m'maior de idade'\u001b[0m\u001b[0;34m)\u001b[0m\u001b[0;34m\u001b[0m\u001b[0;34m\u001b[0m\u001b[0m\n\u001b[1;32m      4\u001b[0m \u001b[0;32melse\u001b[0m\u001b[0;34m:\u001b[0m\u001b[0;34m\u001b[0m\u001b[0;34m\u001b[0m\u001b[0m\n\u001b[1;32m      5\u001b[0m   \u001b[0mprint\u001b[0m\u001b[0;34m(\u001b[0m\u001b[0;34m'menor de idade'\u001b[0m\u001b[0;34m)\u001b[0m\u001b[0;34m\u001b[0m\u001b[0;34m\u001b[0m\u001b[0m\n",
            "\u001b[0;32m/usr/local/lib/python3.11/dist-packages/ipykernel/kernelbase.py\u001b[0m in \u001b[0;36mraw_input\u001b[0;34m(self, prompt)\u001b[0m\n\u001b[1;32m   1175\u001b[0m                 \u001b[0;34m\"raw_input was called, but this frontend does not support input requests.\"\u001b[0m\u001b[0;34m\u001b[0m\u001b[0;34m\u001b[0m\u001b[0m\n\u001b[1;32m   1176\u001b[0m             )\n\u001b[0;32m-> 1177\u001b[0;31m         return self._input_request(\n\u001b[0m\u001b[1;32m   1178\u001b[0m             \u001b[0mstr\u001b[0m\u001b[0;34m(\u001b[0m\u001b[0mprompt\u001b[0m\u001b[0;34m)\u001b[0m\u001b[0;34m,\u001b[0m\u001b[0;34m\u001b[0m\u001b[0;34m\u001b[0m\u001b[0m\n\u001b[1;32m   1179\u001b[0m             \u001b[0mself\u001b[0m\u001b[0;34m.\u001b[0m\u001b[0m_parent_ident\u001b[0m\u001b[0;34m[\u001b[0m\u001b[0;34m\"shell\"\u001b[0m\u001b[0;34m]\u001b[0m\u001b[0;34m,\u001b[0m\u001b[0;34m\u001b[0m\u001b[0;34m\u001b[0m\u001b[0m\n",
            "\u001b[0;32m/usr/local/lib/python3.11/dist-packages/ipykernel/kernelbase.py\u001b[0m in \u001b[0;36m_input_request\u001b[0;34m(self, prompt, ident, parent, password)\u001b[0m\n\u001b[1;32m   1217\u001b[0m             \u001b[0;32mexcept\u001b[0m \u001b[0mKeyboardInterrupt\u001b[0m\u001b[0;34m:\u001b[0m\u001b[0;34m\u001b[0m\u001b[0;34m\u001b[0m\u001b[0m\n\u001b[1;32m   1218\u001b[0m                 \u001b[0;31m# re-raise KeyboardInterrupt, to truncate traceback\u001b[0m\u001b[0;34m\u001b[0m\u001b[0;34m\u001b[0m\u001b[0m\n\u001b[0;32m-> 1219\u001b[0;31m                 \u001b[0;32mraise\u001b[0m \u001b[0mKeyboardInterrupt\u001b[0m\u001b[0;34m(\u001b[0m\u001b[0;34m\"Interrupted by user\"\u001b[0m\u001b[0;34m)\u001b[0m \u001b[0;32mfrom\u001b[0m \u001b[0;32mNone\u001b[0m\u001b[0;34m\u001b[0m\u001b[0;34m\u001b[0m\u001b[0m\n\u001b[0m\u001b[1;32m   1220\u001b[0m             \u001b[0;32mexcept\u001b[0m \u001b[0mException\u001b[0m\u001b[0;34m:\u001b[0m\u001b[0;34m\u001b[0m\u001b[0;34m\u001b[0m\u001b[0m\n\u001b[1;32m   1221\u001b[0m                 \u001b[0mself\u001b[0m\u001b[0;34m.\u001b[0m\u001b[0mlog\u001b[0m\u001b[0;34m.\u001b[0m\u001b[0mwarning\u001b[0m\u001b[0;34m(\u001b[0m\u001b[0;34m\"Invalid Message:\"\u001b[0m\u001b[0;34m,\u001b[0m \u001b[0mexc_info\u001b[0m\u001b[0;34m=\u001b[0m\u001b[0;32mTrue\u001b[0m\u001b[0;34m)\u001b[0m\u001b[0;34m\u001b[0m\u001b[0;34m\u001b[0m\u001b[0m\n",
            "\u001b[0;31mKeyboardInterrupt\u001b[0m: Interrupted by user"
          ]
        }
      ],
      "source": [
        "idade=int(input('digite sua idade'))\n",
        "if idade>=18:\n",
        "  print('maior de idade')\n",
        "else:\n",
        "  print('menor de idade')"
      ]
    },
    {
      "cell_type": "markdown",
      "metadata": {
        "id": "sy1iyNP0WB-E"
      },
      "source": [
        "questão 6"
      ]
    },
    {
      "cell_type": "code",
      "execution_count": null,
      "metadata": {
        "id": "C4ByLrWlRKtV"
      },
      "outputs": [],
      "source": [
        "a=int(input('digite um numero'))\n",
        "if a%3==0:\n",
        "  print('é multiplo de 3')\n",
        "else:\n",
        "  print('não é multiplo de 3')"
      ]
    },
    {
      "cell_type": "markdown",
      "metadata": {
        "id": "RkVwgwiwWGYE"
      },
      "source": [
        "questão 5"
      ]
    },
    {
      "cell_type": "code",
      "execution_count": null,
      "metadata": {
        "colab": {
          "base_uri": "https://localhost:8080/"
        },
        "id": "Ba2xPlGtQUFl",
        "outputId": "5a811efa-8471-4d02-b1e5-68c9ba325ac6"
      },
      "outputs": [
        {
          "name": "stdout",
          "output_type": "stream",
          "text": [
            "digite um numero4\n",
            "digite outro numero2\n",
            "2.0\n"
          ]
        }
      ],
      "source": [
        "a=int(input('digite um numero'))\n",
        "b=int(input('digite outro numero'))\n",
        "print(a/b)"
      ]
    },
    {
      "cell_type": "markdown",
      "metadata": {
        "id": "CVVPkxkTWM7E"
      },
      "source": [
        "questão 4"
      ]
    },
    {
      "cell_type": "code",
      "execution_count": null,
      "metadata": {
        "colab": {
          "base_uri": "https://localhost:8080/"
        },
        "id": "oy9dJ1TTPNQO",
        "outputId": "a158a946-892e-4184-db6e-8708545dcc47"
      },
      "outputs": [
        {
          "name": "stdout",
          "output_type": "stream",
          "text": [
            "digite um numero4\n",
            "8\n",
            "12\n"
          ]
        }
      ],
      "source": [
        "a=int(input('digite um numero'))\n",
        "print(a*2)\n",
        "print(a*3)"
      ]
    },
    {
      "cell_type": "markdown",
      "metadata": {
        "id": "BRwD3B8dWefN"
      },
      "source": [
        "questão 3"
      ]
    },
    {
      "cell_type": "code",
      "execution_count": null,
      "metadata": {
        "colab": {
          "base_uri": "https://localhost:8080/",
          "height": 211
        },
        "id": "ZRHlmb0IOhYW",
        "outputId": "2a66edef-06cf-4d17-d770-1bf2da1c562e"
      },
      "outputs": [
        {
          "name": "stdout",
          "output_type": "stream",
          "text": [
            "digite a largura150\n",
            "digite o comprimento20\n"
          ]
        },
        {
          "ename": "TypeError",
          "evalue": "'int' object is not callable",
          "output_type": "error",
          "traceback": [
            "\u001b[0;31m---------------------------------------------------------------------------\u001b[0m",
            "\u001b[0;31mTypeError\u001b[0m                                 Traceback (most recent call last)",
            "\u001b[0;32m/tmp/ipython-input-89-695731503.py\u001b[0m in \u001b[0;36m<cell line: 0>\u001b[0;34m()\u001b[0m\n\u001b[1;32m      1\u001b[0m \u001b[0mlargura\u001b[0m\u001b[0;34m=\u001b[0m\u001b[0mint\u001b[0m\u001b[0;34m(\u001b[0m\u001b[0minput\u001b[0m\u001b[0;34m(\u001b[0m\u001b[0;34m'digite a largura'\u001b[0m\u001b[0;34m)\u001b[0m\u001b[0;34m)\u001b[0m\u001b[0;34m\u001b[0m\u001b[0;34m\u001b[0m\u001b[0m\n\u001b[1;32m      2\u001b[0m \u001b[0mcomprimento\u001b[0m\u001b[0;34m=\u001b[0m\u001b[0mint\u001b[0m\u001b[0;34m(\u001b[0m\u001b[0minput\u001b[0m\u001b[0;34m(\u001b[0m\u001b[0;34m'digite o comprimento'\u001b[0m\u001b[0;34m)\u001b[0m\u001b[0;34m)\u001b[0m\u001b[0;34m\u001b[0m\u001b[0;34m\u001b[0m\u001b[0m\n\u001b[0;32m----> 3\u001b[0;31m \u001b[0mprint\u001b[0m\u001b[0;34m(\u001b[0m\u001b[0mlargura\u001b[0m\u001b[0;34m*\u001b[0m\u001b[0mcomprimento\u001b[0m\u001b[0;34m)\u001b[0m\u001b[0;34m\u001b[0m\u001b[0;34m\u001b[0m\u001b[0m\n\u001b[0m",
            "\u001b[0;31mTypeError\u001b[0m: 'int' object is not callable"
          ]
        }
      ],
      "source": [
        "largura=int(input('digite a largura'))\n",
        "comprimento=int(input('digite o comprimento'))\n",
        "print(largura*comprimento)"
      ]
    },
    {
      "cell_type": "markdown",
      "metadata": {
        "id": "jviSs5TgWhaM"
      },
      "source": [
        "questão 2"
      ]
    },
    {
      "cell_type": "code",
      "execution_count": null,
      "metadata": {
        "colab": {
          "base_uri": "https://localhost:8080/",
          "height": 211
        },
        "id": "e_O_jThvOBW2",
        "outputId": "eea38919-aad7-43eb-a16d-8f26ccc848ab"
      },
      "outputs": [
        {
          "name": "stdout",
          "output_type": "stream",
          "text": [
            "digite 1 numero15\n",
            "dite outro numero15\n"
          ]
        },
        {
          "ename": "TypeError",
          "evalue": "'int' object is not callable",
          "output_type": "error",
          "traceback": [
            "\u001b[0;31m---------------------------------------------------------------------------\u001b[0m",
            "\u001b[0;31mTypeError\u001b[0m                                 Traceback (most recent call last)",
            "\u001b[0;32m/tmp/ipython-input-88-518961987.py\u001b[0m in \u001b[0;36m<cell line: 0>\u001b[0;34m()\u001b[0m\n\u001b[1;32m      1\u001b[0m \u001b[0ma\u001b[0m\u001b[0;34m=\u001b[0m\u001b[0mint\u001b[0m\u001b[0;34m(\u001b[0m\u001b[0minput\u001b[0m\u001b[0;34m(\u001b[0m\u001b[0;34m'digite 1 numero'\u001b[0m\u001b[0;34m)\u001b[0m\u001b[0;34m)\u001b[0m\u001b[0;34m\u001b[0m\u001b[0;34m\u001b[0m\u001b[0m\n\u001b[1;32m      2\u001b[0m \u001b[0mb\u001b[0m\u001b[0;34m=\u001b[0m\u001b[0mint\u001b[0m\u001b[0;34m(\u001b[0m\u001b[0minput\u001b[0m\u001b[0;34m(\u001b[0m\u001b[0;34m'dite outro numero'\u001b[0m\u001b[0;34m)\u001b[0m\u001b[0;34m)\u001b[0m\u001b[0;34m\u001b[0m\u001b[0;34m\u001b[0m\u001b[0m\n\u001b[0;32m----> 3\u001b[0;31m \u001b[0mprint\u001b[0m\u001b[0;34m(\u001b[0m\u001b[0ma\u001b[0m\u001b[0;34m-\u001b[0m\u001b[0mb\u001b[0m\u001b[0;34m)\u001b[0m\u001b[0;34m\u001b[0m\u001b[0;34m\u001b[0m\u001b[0m\n\u001b[0m",
            "\u001b[0;31mTypeError\u001b[0m: 'int' object is not callable"
          ]
        }
      ],
      "source": [
        "a=int(input('digite 1 numero'))\n",
        "b=int(input('dite outro numero'))\n",
        "print(a-b)"
      ]
    },
    {
      "cell_type": "markdown",
      "metadata": {
        "id": "W5N1BYHXWj1E"
      },
      "source": [
        "questão 1"
      ]
    },
    {
      "cell_type": "code",
      "execution_count": null,
      "metadata": {
        "colab": {
          "base_uri": "https://localhost:8080/",
          "height": 176
        },
        "id": "nUecK2cNLAAR",
        "outputId": "fa2243fd-9abb-4d7b-e21d-b6fe91129f75"
      },
      "outputs": [
        {
          "ename": "TypeError",
          "evalue": "'int' object is not callable",
          "output_type": "error",
          "traceback": [
            "\u001b[0;31m---------------------------------------------------------------------------\u001b[0m",
            "\u001b[0;31mTypeError\u001b[0m                                 Traceback (most recent call last)",
            "\u001b[0;32m/tmp/ipython-input-87-913100101.py\u001b[0m in \u001b[0;36m<cell line: 0>\u001b[0;34m()\u001b[0m\n\u001b[1;32m      1\u001b[0m \u001b[0ma\u001b[0m\u001b[0;34m=\u001b[0m\u001b[0;36m10\u001b[0m\u001b[0;34m\u001b[0m\u001b[0;34m\u001b[0m\u001b[0m\n\u001b[1;32m      2\u001b[0m \u001b[0mb\u001b[0m\u001b[0;34m=\u001b[0m\u001b[0;36m13\u001b[0m\u001b[0;34m\u001b[0m\u001b[0;34m\u001b[0m\u001b[0m\n\u001b[0;32m----> 3\u001b[0;31m \u001b[0mprint\u001b[0m\u001b[0;34m(\u001b[0m\u001b[0ma\u001b[0m\u001b[0;34m+\u001b[0m\u001b[0mb\u001b[0m\u001b[0;34m)\u001b[0m\u001b[0;34m\u001b[0m\u001b[0;34m\u001b[0m\u001b[0m\n\u001b[0m",
            "\u001b[0;31mTypeError\u001b[0m: 'int' object is not callable"
          ]
        }
      ],
      "source": [
        "a=10\n",
        "b=13\n",
        "print(a+b)"
      ]
    }
  ],
  "metadata": {
    "colab": {
      "provenance": [],
      "authorship_tag": "ABX9TyNhDkf3gl3D0xn1DC3S0uNK",
      "include_colab_link": true
    },
    "kernelspec": {
      "display_name": "Python 3",
      "name": "python3"
    },
    "language_info": {
      "name": "python"
    }
  },
  "nbformat": 4,
  "nbformat_minor": 0
}